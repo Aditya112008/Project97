{
  "nbformat": 4,
  "nbformat_minor": 0,
  "metadata": {
    "colab": {
      "name": "Project97.ipynb",
      "provenance": [],
      "collapsed_sections": [],
      "authorship_tag": "ABX9TyMkrBx608WvuLs0wrFY88Hr",
      "include_colab_link": true
    },
    "kernelspec": {
      "name": "python3",
      "display_name": "Python 3"
    },
    "language_info": {
      "name": "python"
    }
  },
  "cells": [
    {
      "cell_type": "markdown",
      "metadata": {
        "id": "view-in-github",
        "colab_type": "text"
      },
      "source": [
        "<a href=\"https://colab.research.google.com/github/Aditya112008/Project97/blob/main/Project97.ipynb\" target=\"_parent\"><img src=\"https://colab.research.google.com/assets/colab-badge.svg\" alt=\"Open In Colab\"/></a>"
      ]
    },
    {
      "cell_type": "code",
      "metadata": {
        "colab": {
          "base_uri": "https://localhost:8080/"
        },
        "id": "K0_LswrKg421",
        "outputId": "2474e783-db5e-4db5-8f31-9a959da56383"
      },
      "source": [
        "import random\n",
        "chances = 0\n",
        "number = random.randint(1, 9)\n",
        "print(number)\n",
        "\n",
        "while chances < 5: \n",
        " guess = int (input(\"Enter Your Guess : \"))\n",
        " print (guess)\n",
        "\n",
        " if (guess == number):\n",
        "  print(\"Congratulations You Won\")\n",
        "  break\n",
        "\n",
        "\n",
        " elif (guess < number):\n",
        "  print(\"Enter A Number More than : \", guess)\n",
        "\n",
        " else : \n",
        "    print(\"Your Guess is too High :  Guess A Number lower than\", guess)\n",
        "\n",
        " chances += 1\n",
        "if not chances < 5:\n",
        "  print(\"You Lose !! The Number is:\", number)\n",
        "4\n",
        "\n"
      ],
      "execution_count": 25,
      "outputs": [
        {
          "output_type": "stream",
          "text": [
            "6\n",
            "Enter Your Guess : 5\n",
            "5\n",
            "Enter A Number More than :  5\n",
            "Enter Your Guess : 4\n",
            "4\n",
            "Enter A Number More than :  4\n",
            "Enter Your Guess : 3\n",
            "3\n",
            "Enter A Number More than :  3\n",
            "Enter Your Guess : 6\n",
            "6\n",
            "Congratulations You Won\n"
          ],
          "name": "stdout"
        }
      ]
    }
  ]
}